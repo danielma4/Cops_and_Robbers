{
 "cells": [
  {
   "cell_type": "code",
   "execution_count": 20,
   "id": "72fe3f99",
   "metadata": {},
   "outputs": [],
   "source": [
    "from sage.all import graphs\n",
    "from itertools import combinations\n",
    "\n",
    "def available_squares(cop_pos: list, robber_pos: tuple, G) -> list:\n",
    "    #Function that returns the set of squares that are available to the robber\n",
    "    #return the adjacent vertices of robber_pos \\ adjacent vertices of cops    \n",
    "    c_neighbors = set(cop_pos)\n",
    "    for cop in cop_pos:\n",
    "        c_neighbors = c_neighbors.union(set(G.neighbors(cop)))\n",
    "\n",
    "    r_neighbors = set(G.neighbors(robber_pos)).union({robber_pos})\n",
    "    return r_neighbors - c_neighbors\n",
    "\n",
    "def brute_force_cop_win(n, k):\n",
    "    #will return true if there exists a state where the cops win\n",
    "    #if returns false, shows that k cops cannot win\n",
    "\n",
    "    G = graphs.QueenGraph([n,n])\n",
    "    states = list(combinations(G.vertices(), k+1))\n",
    "\n",
    "    for state in states:\n",
    "        for r_pos in state: #out of k+1 vertices, choose each one as a robber pos\n",
    "            c_pos = [pos for pos in state if pos != r_pos]\n",
    "            #print(r_pos, c_pos)\n",
    "\n",
    "            if len(available_squares(c_pos, r_pos, G)) == 0:\n",
    "                return True\n",
    "    \n",
    "    return False"
   ]
  },
  {
   "cell_type": "code",
   "execution_count": 30,
   "id": "ef3fffe0",
   "metadata": {},
   "outputs": [
    {
     "name": "stdout",
     "output_type": "stream",
     "text": [
      "checking for 2-cop win state existence:\n",
      "n=7:False\n",
      "n=8:False\n",
      "n=9:False\n",
      "\n"
     ]
    }
   ],
   "source": [
    "print(f\"checking for 2-cop win state existence:\\n\" \n",
    "      f\"n=7:{brute_force_cop_win(7, 2)}\\n\"\n",
    "      f\"n=8:{brute_force_cop_win(8, 2)}\\n\"\n",
    "      f\"n=9:{brute_force_cop_win(9, 2)}\\n\")"
   ]
  }
 ],
 "metadata": {
  "kernelspec": {
   "display_name": "SageMath 10.7.beta2",
   "language": "sage",
   "name": "sagemath"
  },
  "language_info": {
   "codemirror_mode": {
    "name": "ipython",
    "version": 3
   },
   "file_extension": ".py",
   "mimetype": "text/x-python",
   "name": "python",
   "nbconvert_exporter": "python",
   "pygments_lexer": "ipython3",
   "version": "3.12.8"
  }
 },
 "nbformat": 4,
 "nbformat_minor": 5
}
